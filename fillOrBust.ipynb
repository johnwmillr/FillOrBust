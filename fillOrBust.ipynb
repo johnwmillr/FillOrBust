{
 "cells": [
  {
   "cell_type": "markdown",
   "metadata": {},
   "source": [
    "## Let's play Fill or Bust! ##"
   ]
  },
  {
   "cell_type": "code",
   "execution_count": 5,
   "metadata": {},
   "outputs": [],
   "source": [
    "import fillOrBust\n",
    "reload(fillOrBust)\n",
    "import numpy as np\n",
    "import matplotlib.pyplot as plt\n",
    "%matplotlib inline"
   ]
  },
  {
   "cell_type": "code",
   "execution_count": 8,
   "metadata": {},
   "outputs": [
    {
     "name": "stdout",
     "output_type": "stream",
     "text": [
      "0/10000\n",
      "2000/10000\n",
      "4000/10000\n",
      "6000/10000\n",
      "8000/10000\n",
      "\n",
      "After 10000 turns, the average score was: 477.39.\n",
      "You busted 944 times, got 846 fills, and stopped 8210 times.\n"
     ]
    }
   ],
   "source": [
    "player = fillOrBust.Turn()\n",
    "bust_count, fill_count, stop_count = 0,0,0\n",
    "bonus_values = [300, 400, 500]\n",
    "\n",
    "n_turns = 10000\n",
    "scores = np.zeros((n_turns,1))\n",
    "for n in np.arange(n_turns):\n",
    "\n",
    "    # Draw a card\n",
    "    card = fillOrBust.Card(np.random.choice(bonus_values))\n",
    "\n",
    "    while player._dice_remaining > 0 and not player._stopped:            \n",
    "\n",
    "        # Implement some strategy\n",
    "        if player._dice_remaining <= 2:\n",
    "            player.stop()\n",
    "            break        \n",
    "\n",
    "        player.roll()\n",
    "\n",
    "    if player._fill:\n",
    "        player._score = player._score + card.bonus\n",
    "\n",
    "    if np.mod(n,np.round(0.2*n_turns))==0: print(\"{0}/{1}\".format(n,n_turns))\n",
    "    scores[n,0] = player.score\n",
    "\n",
    "    if player._bust:\n",
    "        bust_count += 1\n",
    "    if player._fill:\n",
    "        fill_count += 1\n",
    "    if player._stopped:\n",
    "        stop_count += 1\n",
    "\n",
    "    player.__restart__()\n",
    "\n",
    "print(\"\\nAfter {N} turns, the average score was: {avg_score}.\".format(N=n_turns,avg_score=scores.mean()))\n",
    "print(\"You busted {n_busts} times, got {n_fills} fills, and stopped {n_stops} times.\".format(n_busts=bust_count,n_fills=fill_count,n_stops=stop_count))\n"
   ]
  },
  {
   "cell_type": "code",
   "execution_count": 9,
   "metadata": {},
   "outputs": [
    {
     "data": {
      "image/png": "[encoded data removed]",
      "text/plain": [
       "<matplotlib.figure.Figure at 0x1130bc590>"
      ]
     },
     "metadata": {},
     "output_type": "display_data"
    }
   ],
   "source": [
    "plt.hist(scores,bins=np.arange(0,2000,50))\n",
    "plt.show()"
   ]
  },
  {
   "cell_type": "code",
   "execution_count": null,
   "metadata": {},
   "outputs": [],
   "source": []
  }
 ],
 "metadata": {
  "kernelspec": {
   "display_name": "Python 2",
   "language": "python",
   "name": "python2"
  },
  "language_info": {
   "codemirror_mode": {
    "name": "ipython",
    "version": 2
   },
   "file_extension": ".py",
   "mimetype": "text/x-python",
   "name": "python",
   "nbconvert_exporter": "python",
   "pygments_lexer": "ipython2",
   "version": "2.7.14"
  }
 },
 "nbformat": 4,
 "nbformat_minor": 2
}
